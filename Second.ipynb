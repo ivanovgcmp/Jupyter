{
 "cells": [
  {
   "cell_type": "markdown",
   "id": "6d2e98d4",
   "metadata": {},
   "source": [
    "# Последовательность Фибоначчи"
   ]
  },
  {
   "cell_type": "code",
   "execution_count": 13,
   "id": "942d922a",
   "metadata": {},
   "outputs": [],
   "source": [
    "def fibonacci(sequence_length):\n",
    "    sequence = [0,1]\n",
    "    if sequence_length < 1:\n",
    "        print(\"Последовательность Фибоначчи не может иметь длину меньше 1\")\n",
    "        return\n",
    "    if 0 < sequence_length < 3:\n",
    "        return sequence[0:sequence_length]\n",
    "    for i in range(2,sequence_length):\n",
    "        sequence.append(sequence[i-1]+sequence[i-2])\n",
    "    return sequence"
   ]
  },
  {
   "cell_type": "code",
   "execution_count": 14,
   "id": "b5c6e789",
   "metadata": {},
   "outputs": [
    {
     "data": {
      "text/plain": [
       "[0, 1, 1, 2, 3, 5, 8, 13, 21, 34, 55, 89]"
      ]
     },
     "execution_count": 14,
     "metadata": {},
     "output_type": "execute_result"
    }
   ],
   "source": [
    "fibonacci(12)"
   ]
  },
  {
   "cell_type": "code",
   "execution_count": 15,
   "id": "1121badc",
   "metadata": {},
   "outputs": [
    {
     "data": {
      "text/plain": [
       "[0, 1]"
      ]
     },
     "execution_count": 15,
     "metadata": {},
     "output_type": "execute_result"
    }
   ],
   "source": [
    "fibonacci(2)"
   ]
  },
  {
   "cell_type": "code",
   "execution_count": 16,
   "id": "8411d731",
   "metadata": {},
   "outputs": [
    {
     "name": "stdout",
     "output_type": "stream",
     "text": [
      "Последовательность Фибоначчи не может иметь длинну меньше 1\n"
     ]
    }
   ],
   "source": [
    "fibonacci(0)"
   ]
  },
  {
   "cell_type": "markdown",
   "id": "e2621cb4",
   "metadata": {},
   "source": [
    "# Бриллианты"
   ]
  },
  {
   "cell_type": "code",
   "execution_count": 27,
   "id": "21a0bc42",
   "metadata": {
    "scrolled": true
   },
   "outputs": [
    {
     "data": {
      "text/html": [
       "<div>\n",
       "<style scoped>\n",
       "    .dataframe tbody tr th:only-of-type {\n",
       "        vertical-align: middle;\n",
       "    }\n",
       "\n",
       "    .dataframe tbody tr th {\n",
       "        vertical-align: top;\n",
       "    }\n",
       "\n",
       "    .dataframe thead th {\n",
       "        text-align: right;\n",
       "    }\n",
       "</style>\n",
       "<table border=\"1\" class=\"dataframe\">\n",
       "  <thead>\n",
       "    <tr style=\"text-align: right;\">\n",
       "      <th></th>\n",
       "      <th>carat</th>\n",
       "      <th>cut</th>\n",
       "      <th>color</th>\n",
       "      <th>clarity</th>\n",
       "      <th>depth</th>\n",
       "      <th>table</th>\n",
       "      <th>price</th>\n",
       "      <th>x</th>\n",
       "      <th>y</th>\n",
       "      <th>z</th>\n",
       "    </tr>\n",
       "  </thead>\n",
       "  <tbody>\n",
       "    <tr>\n",
       "      <th>0</th>\n",
       "      <td>0.23</td>\n",
       "      <td>Ideal</td>\n",
       "      <td>E</td>\n",
       "      <td>SI2</td>\n",
       "      <td>61.5</td>\n",
       "      <td>55.0</td>\n",
       "      <td>326</td>\n",
       "      <td>3.95</td>\n",
       "      <td>3.98</td>\n",
       "      <td>2.43</td>\n",
       "    </tr>\n",
       "    <tr>\n",
       "      <th>1</th>\n",
       "      <td>0.21</td>\n",
       "      <td>Premium</td>\n",
       "      <td>E</td>\n",
       "      <td>SI1</td>\n",
       "      <td>59.8</td>\n",
       "      <td>61.0</td>\n",
       "      <td>326</td>\n",
       "      <td>3.89</td>\n",
       "      <td>3.84</td>\n",
       "      <td>2.31</td>\n",
       "    </tr>\n",
       "    <tr>\n",
       "      <th>2</th>\n",
       "      <td>0.23</td>\n",
       "      <td>Good</td>\n",
       "      <td>E</td>\n",
       "      <td>VS1</td>\n",
       "      <td>56.9</td>\n",
       "      <td>65.0</td>\n",
       "      <td>327</td>\n",
       "      <td>4.05</td>\n",
       "      <td>4.07</td>\n",
       "      <td>2.31</td>\n",
       "    </tr>\n",
       "    <tr>\n",
       "      <th>3</th>\n",
       "      <td>0.29</td>\n",
       "      <td>Premium</td>\n",
       "      <td>I</td>\n",
       "      <td>VS2</td>\n",
       "      <td>62.4</td>\n",
       "      <td>58.0</td>\n",
       "      <td>334</td>\n",
       "      <td>4.20</td>\n",
       "      <td>4.23</td>\n",
       "      <td>2.63</td>\n",
       "    </tr>\n",
       "    <tr>\n",
       "      <th>4</th>\n",
       "      <td>0.31</td>\n",
       "      <td>Good</td>\n",
       "      <td>J</td>\n",
       "      <td>SI2</td>\n",
       "      <td>63.3</td>\n",
       "      <td>58.0</td>\n",
       "      <td>335</td>\n",
       "      <td>4.34</td>\n",
       "      <td>4.35</td>\n",
       "      <td>2.75</td>\n",
       "    </tr>\n",
       "    <tr>\n",
       "      <th>5</th>\n",
       "      <td>0.24</td>\n",
       "      <td>Very Good</td>\n",
       "      <td>J</td>\n",
       "      <td>VVS2</td>\n",
       "      <td>62.8</td>\n",
       "      <td>57.0</td>\n",
       "      <td>336</td>\n",
       "      <td>3.94</td>\n",
       "      <td>3.96</td>\n",
       "      <td>2.48</td>\n",
       "    </tr>\n",
       "    <tr>\n",
       "      <th>6</th>\n",
       "      <td>0.24</td>\n",
       "      <td>Very Good</td>\n",
       "      <td>I</td>\n",
       "      <td>VVS1</td>\n",
       "      <td>62.3</td>\n",
       "      <td>57.0</td>\n",
       "      <td>336</td>\n",
       "      <td>3.95</td>\n",
       "      <td>3.98</td>\n",
       "      <td>2.47</td>\n",
       "    </tr>\n",
       "    <tr>\n",
       "      <th>7</th>\n",
       "      <td>0.26</td>\n",
       "      <td>Very Good</td>\n",
       "      <td>H</td>\n",
       "      <td>SI1</td>\n",
       "      <td>61.9</td>\n",
       "      <td>55.0</td>\n",
       "      <td>337</td>\n",
       "      <td>4.07</td>\n",
       "      <td>4.11</td>\n",
       "      <td>2.53</td>\n",
       "    </tr>\n",
       "    <tr>\n",
       "      <th>8</th>\n",
       "      <td>0.22</td>\n",
       "      <td>Fair</td>\n",
       "      <td>E</td>\n",
       "      <td>VS2</td>\n",
       "      <td>65.1</td>\n",
       "      <td>61.0</td>\n",
       "      <td>337</td>\n",
       "      <td>3.87</td>\n",
       "      <td>3.78</td>\n",
       "      <td>2.49</td>\n",
       "    </tr>\n",
       "    <tr>\n",
       "      <th>9</th>\n",
       "      <td>0.23</td>\n",
       "      <td>Very Good</td>\n",
       "      <td>H</td>\n",
       "      <td>VS1</td>\n",
       "      <td>59.4</td>\n",
       "      <td>61.0</td>\n",
       "      <td>338</td>\n",
       "      <td>4.00</td>\n",
       "      <td>4.05</td>\n",
       "      <td>2.39</td>\n",
       "    </tr>\n",
       "  </tbody>\n",
       "</table>\n",
       "</div>"
      ],
      "text/plain": [
       "   carat        cut color clarity  depth  table  price     x     y     z\n",
       "0   0.23      Ideal     E     SI2   61.5   55.0    326  3.95  3.98  2.43\n",
       "1   0.21    Premium     E     SI1   59.8   61.0    326  3.89  3.84  2.31\n",
       "2   0.23       Good     E     VS1   56.9   65.0    327  4.05  4.07  2.31\n",
       "3   0.29    Premium     I     VS2   62.4   58.0    334  4.20  4.23  2.63\n",
       "4   0.31       Good     J     SI2   63.3   58.0    335  4.34  4.35  2.75\n",
       "5   0.24  Very Good     J    VVS2   62.8   57.0    336  3.94  3.96  2.48\n",
       "6   0.24  Very Good     I    VVS1   62.3   57.0    336  3.95  3.98  2.47\n",
       "7   0.26  Very Good     H     SI1   61.9   55.0    337  4.07  4.11  2.53\n",
       "8   0.22       Fair     E     VS2   65.1   61.0    337  3.87  3.78  2.49\n",
       "9   0.23  Very Good     H     VS1   59.4   61.0    338  4.00  4.05  2.39"
      ]
     },
     "execution_count": 27,
     "metadata": {},
     "output_type": "execute_result"
    }
   ],
   "source": [
    "import numpy as np\n",
    "import pandas as pd\n",
    "import matplotlib.pyplot as plt\n",
    "\n",
    "data = pd.read_csv(\"P1_diamonds.csv\", header = 0)\n",
    "data = data.drop(\"Unnamed: 0\", axis = 1)\n",
    "data.head(10)"
   ]
  },
  {
   "cell_type": "markdown",
   "id": "21510938",
   "metadata": {},
   "source": [
    "# Графики"
   ]
  },
  {
   "cell_type": "code",
   "execution_count": 29,
   "id": "9f252c2a",
   "metadata": {
    "scrolled": true
   },
   "outputs": [
    {
     "data": {
      "image/png": "[encoded data removed]",
      "text/plain": [
       "<Figure size 432x288 with 1 Axes>"
      ]
     },
     "metadata": {
      "needs_background": "light"
     },
     "output_type": "display_data"
    }
   ],
   "source": [
    "plt.hist(data[\"price\"], bins = 150)\n",
    "\n",
    "# Adding title\n",
    "plt.title(\"Частотный график: Цены на бриллианты\\n\", fontdict={'fontsize': 20, 'fontweight': 20, 'color' : 'Green'})\n",
    "\n",
    "plt.xlabel(\"Цена\", fontdict={'fontsize': 12, 'fontweight': 20, 'color' : 'Brown'})\n",
    "plt.ylabel(\"Количество\", fontdict={'fontsize': 12, 'fontweight': 20, 'color' : 'Brown'})\n",
    "\n",
    "plt.show()"
   ]
  },
  {
   "cell_type": "code",
   "execution_count": 30,
   "id": "25f7c8e3",
   "metadata": {},
   "outputs": [
    {
     "data": {
      "image/png": "[encoded data removed]",
      "text/plain": [
       "<Figure size 432x288 with 1 Axes>"
      ]
     },
     "metadata": {
      "needs_background": "light"
     },
     "output_type": "display_data"
    }
   ],
   "source": [
    "groupdata = data.groupby(\"cut\").count()\n",
    "groupdata\n",
    "\n",
    "x_vals = []\n",
    "y_vals = []\n",
    "for i in [0, 1, 4, 3, 2]:\n",
    "    x_vals.append(groupdata.index[i])\n",
    "    y_vals.append(groupdata.iloc[i,0])\n",
    "    \n",
    "plt.bar(x_vals, y_vals)\n",
    "\n",
    "plt.title(\"Частотный график: Огранка бриллиантов\\n\", fontdict={'fontsize': 20, 'fontweight': 20, 'color' : 'Green'})\n",
    "\n",
    "plt.xlabel(\"Огранка\", fontdict={'fontsize': 12, 'fontweight': 20, 'color' : 'Brown'})\n",
    "plt.ylabel(\"Количество\", fontdict={'fontsize': 12, 'fontweight': 20, 'color' : 'Brown'})\n",
    "\n",
    "plt.show()"
   ]
  },
  {
   "cell_type": "markdown",
   "id": "379c43f4",
   "metadata": {},
   "source": [
    "# Способ построения гистограмм с использованием набора данных библиотеки scikit learn Iris."
   ]
  },
  {
   "cell_type": "code",
   "execution_count": 116,
   "id": "ea71325b",
   "metadata": {},
   "outputs": [
    {
     "data": {
      "text/plain": [
       "Text(0.5, 1.0, 'petal length')"
      ]
     },
     "execution_count": 116,
     "metadata": {},
     "output_type": "execute_result"
    },
    {
     "data": {
      "image/png": "[encoded data removed]",
      "text/plain": [
       "<Figure size 432x288 with 2 Axes>"
      ]
     },
     "metadata": {
      "needs_background": "light"
     },
     "output_type": "display_data"
    }
   ],
   "source": [
    "import pandas as pd\n",
    "import numpy as np\n",
    "import matplotlib\n",
    "import matplotlib.pyplot as plt\n",
    "from sklearn import datasets\n",
    "fetch_covtype = datasets.load_iris()\n",
    "\n",
    "data = pd.DataFrame(data= np.c_[iris['data'], iris['target']], columns= iris['feature_names'] + ['target'])\n",
    "\n",
    "fig, axs = plt.subplots(1, 2)\n",
    "n_bins = len(data)\n",
    "axs[0].hist(data['sepal length (cm)'], bins=n_bins)\n",
    "axs[0].set_title('sepal length')\n",
    "axs[1].hist(data['petal length (cm)'], bins=n_bins)\n",
    "axs[1].set_title('petal length')"
   ]
  },
  {
   "cell_type": "code",
   "execution_count": 117,
   "id": "fed6232c",
   "metadata": {},
   "outputs": [
    {
     "data": {
      "text/plain": [
       "<matplotlib.legend.Legend at 0x17860325df0>"
      ]
     },
     "execution_count": 117,
     "metadata": {},
     "output_type": "execute_result"
    },
    {
     "data": {
      "image/png": "[encoded data removed]",
      "text/plain": [
       "<Figure size 2880x360 with 1 Axes>"
      ]
     },
     "metadata": {
      "needs_background": "light"
     },
     "output_type": "display_data"
    }
   ],
   "source": [
    "x = np.arange(len(data[:50]))  \n",
    "width = 0.35\n",
    "\n",
    "fig, ax = plt.subplots(figsize=(40,5))\n",
    "rects1 = ax.bar(x - width/2, data['sepal width (cm)'][:50], width, label='sepal width')\n",
    "rects2 = ax.bar(x + width/2, data['petal width (cm)'][:50], width, label='petal width')\n",
    "\n",
    "ax.set_ylabel('cm')\n",
    "ax.set_xticks(x)\n",
    "ax.legend()"
   ]
  },
  {
   "cell_type": "markdown",
   "id": "36090281",
   "metadata": {},
   "source": [
    "# Статус/Количество сделок"
   ]
  },
  {
   "cell_type": "code",
   "execution_count": 100,
   "id": "3011df5d",
   "metadata": {
    "scrolled": true
   },
   "outputs": [
    {
     "data": {
      "text/html": [
       "<div>\n",
       "<style scoped>\n",
       "    .dataframe tbody tr th:only-of-type {\n",
       "        vertical-align: middle;\n",
       "    }\n",
       "\n",
       "    .dataframe tbody tr th {\n",
       "        vertical-align: top;\n",
       "    }\n",
       "\n",
       "    .dataframe thead th {\n",
       "        text-align: right;\n",
       "    }\n",
       "</style>\n",
       "<table border=\"1\" class=\"dataframe\">\n",
       "  <thead>\n",
       "    <tr style=\"text-align: right;\">\n",
       "      <th></th>\n",
       "      <th>ID</th>\n",
       "      <th>Account</th>\n",
       "      <th>Payment</th>\n",
       "      <th>Employee</th>\n",
       "      <th>Starting date</th>\n",
       "      <th>Final date</th>\n",
       "      <th>Status</th>\n",
       "    </tr>\n",
       "  </thead>\n",
       "  <tbody>\n",
       "    <tr>\n",
       "      <th>0</th>\n",
       "      <td>709</td>\n",
       "      <td>«Запись на курс Менеджер проектов»</td>\n",
       "      <td>Частичная оплата получена</td>\n",
       "      <td>Анна</td>\n",
       "      <td>29.04.2021 16:14</td>\n",
       "      <td>01.06.2021 17:22</td>\n",
       "      <td>Ожидает платежа</td>\n",
       "    </tr>\n",
       "    <tr>\n",
       "      <th>1</th>\n",
       "      <td>708</td>\n",
       "      <td>«Запись на курс Менеджер проектов»</td>\n",
       "      <td>Полная оплата получена</td>\n",
       "      <td>Анна</td>\n",
       "      <td>29.04.2021 16:13</td>\n",
       "      <td>03.05.2021 10:46</td>\n",
       "      <td>Оплачен</td>\n",
       "    </tr>\n",
       "    <tr>\n",
       "      <th>2</th>\n",
       "      <td>702</td>\n",
       "      <td>«Запись на курс по веб-разработке»</td>\n",
       "      <td>Полная оплата получена</td>\n",
       "      <td>Анна</td>\n",
       "      <td>24.04.2021 15:11</td>\n",
       "      <td>05.05.2021 11:56</td>\n",
       "      <td>Оплачен</td>\n",
       "    </tr>\n",
       "    <tr>\n",
       "      <th>3</th>\n",
       "      <td>697</td>\n",
       "      <td>«Запись на курс Администратор WordPress»</td>\n",
       "      <td>Частичная оплата получена</td>\n",
       "      <td>Анна</td>\n",
       "      <td>23.04.2021 14:27</td>\n",
       "      <td>25.04.2021 17:00</td>\n",
       "      <td>Ожидает платежа</td>\n",
       "    </tr>\n",
       "    <tr>\n",
       "      <th>4</th>\n",
       "      <td>689</td>\n",
       "      <td>«Запись на курс по веб-разработке»</td>\n",
       "      <td>Частичная оплата получена</td>\n",
       "      <td>Анна</td>\n",
       "      <td>19.04.2021 17:24</td>\n",
       "      <td>05.05.2021 11:58</td>\n",
       "      <td>Частичный возврат</td>\n",
       "    </tr>\n",
       "    <tr>\n",
       "      <th>5</th>\n",
       "      <td>688</td>\n",
       "      <td>«Запись на курс по веб-разработке»</td>\n",
       "      <td>Частичная оплата получена</td>\n",
       "      <td>Анна</td>\n",
       "      <td>18.04.2021 16:41</td>\n",
       "      <td>19.04.2021 19:36</td>\n",
       "      <td>Ожидает платежа</td>\n",
       "    </tr>\n",
       "    <tr>\n",
       "      <th>6</th>\n",
       "      <td>672</td>\n",
       "      <td>«Запись на курс по веб-разработке»</td>\n",
       "      <td>Частичная оплата получена</td>\n",
       "      <td>Анна</td>\n",
       "      <td>12.04.2021 12:43</td>\n",
       "      <td>12.04.2021 19:08</td>\n",
       "      <td>Частичный возврат</td>\n",
       "    </tr>\n",
       "    <tr>\n",
       "      <th>7</th>\n",
       "      <td>664</td>\n",
       "      <td>«Запись на курс по веб-разработке»</td>\n",
       "      <td>Частичная оплата получена</td>\n",
       "      <td>Анна</td>\n",
       "      <td>09.04.2021 11:55</td>\n",
       "      <td>09.04.2021 13:47</td>\n",
       "      <td>Ожидает платежа</td>\n",
       "    </tr>\n",
       "    <tr>\n",
       "      <th>8</th>\n",
       "      <td>647</td>\n",
       "      <td>«Запись на курс по веб-разработке»</td>\n",
       "      <td>Частичная оплата получена</td>\n",
       "      <td>Анна</td>\n",
       "      <td>08.04.2021 15:47</td>\n",
       "      <td>12.04.2021 17:27</td>\n",
       "      <td>Ожидает платежа</td>\n",
       "    </tr>\n",
       "    <tr>\n",
       "      <th>9</th>\n",
       "      <td>601</td>\n",
       "      <td>«Запись на курс Администратор WordPress»</td>\n",
       "      <td>Частичная оплата получена</td>\n",
       "      <td>Анна</td>\n",
       "      <td>18.03.2021 15:52</td>\n",
       "      <td>05.05.2021 11:55</td>\n",
       "      <td>Погашен</td>\n",
       "    </tr>\n",
       "  </tbody>\n",
       "</table>\n",
       "</div>"
      ],
      "text/plain": [
       "    ID                                   Account                    Payment  \\\n",
       "0  709        «Запись на курс Менеджер проектов»  Частичная оплата получена   \n",
       "1  708        «Запись на курс Менеджер проектов»     Полная оплата получена   \n",
       "2  702        «Запись на курс по веб-разработке»     Полная оплата получена   \n",
       "3  697  «Запись на курс Администратор WordPress»  Частичная оплата получена   \n",
       "4  689        «Запись на курс по веб-разработке»  Частичная оплата получена   \n",
       "5  688        «Запись на курс по веб-разработке»  Частичная оплата получена   \n",
       "6  672        «Запись на курс по веб-разработке»  Частичная оплата получена   \n",
       "7  664        «Запись на курс по веб-разработке»  Частичная оплата получена   \n",
       "8  647        «Запись на курс по веб-разработке»  Частичная оплата получена   \n",
       "9  601  «Запись на курс Администратор WordPress»  Частичная оплата получена   \n",
       "\n",
       "  Employee     Starting date        Final date             Status  \n",
       "0     Анна  29.04.2021 16:14  01.06.2021 17:22    Ожидает платежа  \n",
       "1     Анна  29.04.2021 16:13  03.05.2021 10:46            Оплачен  \n",
       "2     Анна  24.04.2021 15:11  05.05.2021 11:56            Оплачен  \n",
       "3     Анна  23.04.2021 14:27  25.04.2021 17:00    Ожидает платежа  \n",
       "4     Анна  19.04.2021 17:24  05.05.2021 11:58  Частичный возврат  \n",
       "5     Анна  18.04.2021 16:41  19.04.2021 19:36    Ожидает платежа  \n",
       "6     Анна  12.04.2021 12:43  12.04.2021 19:08  Частичный возврат  \n",
       "7     Анна  09.04.2021 11:55  09.04.2021 13:47    Ожидает платежа  \n",
       "8     Анна  08.04.2021 15:47  12.04.2021 17:27    Ожидает платежа  \n",
       "9     Анна  18.03.2021 15:52  05.05.2021 11:55            Погашен  "
      ]
     },
     "execution_count": 100,
     "metadata": {},
     "output_type": "execute_result"
    }
   ],
   "source": [
    "import matplotlib.pyplot as plt\n",
    "import pandas as pd\n",
    "import numpy as np\n",
    "import seaborn as sns\n",
    "\n",
    "# Load the dataframe\n",
    "data = pd.read_csv('Invoices_out.csv', header = 0)\n",
    "# data = data.drop(\"ID\", axis = 1)\n",
    "data.head(10)"
   ]
  },
  {
   "cell_type": "code",
   "execution_count": 109,
   "id": "ceda650a",
   "metadata": {},
   "outputs": [
    {
     "data": {
      "image/png": "[encoded data removed]",
      "text/plain": [
       "<Figure size 432x288 with 1 Axes>"
      ]
     },
     "metadata": {
      "needs_background": "light"
     },
     "output_type": "display_data"
    }
   ],
   "source": [
    "plt.hist(data[\"Status\"], bins = 10)\n",
    "\n",
    "# Adding title\n",
    "plt.title(\"График: количество сделок / статус сделок\\n\", fontdict={'fontsize': 20, 'fontweight': 20, 'color' : 'Black'})\n",
    "\n",
    "plt.xlabel(\"Статус сделки\", fontdict={'fontsize': 14, 'fontweight': 50, 'color' : 'Brown'})\n",
    "plt.ylabel(\"Количество сделок\", fontdict={'fontsize': 14, 'fontweight': 50, 'color' : 'Brown'})\n",
    "\n",
    "plt.show()"
   ]
  },
  {
   "cell_type": "code",
   "execution_count": null,
   "id": "cd7b5439",
   "metadata": {},
   "outputs": [],
   "source": []
  }
 ],
 "metadata": {
  "kernelspec": {
   "display_name": "Python 3 (ipykernel)",
   "language": "python",
   "name": "python3"
  },
  "language_info": {
   "codemirror_mode": {
    "name": "ipython",
    "version": 3
   },
   "file_extension": ".py",
   "mimetype": "text/x-python",
   "name": "python",
   "nbconvert_exporter": "python",
   "pygments_lexer": "ipython3",
   "version": "3.9.13"
  }
 },
 "nbformat": 4,
 "nbformat_minor": 5
}
