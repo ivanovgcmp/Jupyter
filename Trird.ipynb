{
  "nbformat": 4,
  "nbformat_minor": 0,
  "metadata": {
    "colab": {
      "name": "Trird.ipynb",
      "provenance": [],
      "collapsed_sections": [],
      "authorship_tag": "ABX9TyM6Z0z520aw4sSJUORFW2Lh",
      "include_colab_link": true
    },
    "kernelspec": {
      "name": "python3",
      "display_name": "Python 3"
    },
    "language_info": {
      "name": "python"
    }
  },
  "cells": [
    {
      "cell_type": "markdown",
      "metadata": {
        "id": "view-in-github",
        "colab_type": "text"
      },
      "source": [
        "<a href=\"https://colab.research.google.com/github/ivanovgcmp/Jupyter/blob/develop/Trird.ipynb\" target=\"_parent\"><img src=\"https://colab.research.google.com/assets/colab-badge.svg\" alt=\"Open In Colab\"/></a>"
      ]
    },
    {
      "cell_type": "markdown",
      "source": [
        "# Trird file"
      ],
      "metadata": {
        "id": "1HHSg6qF6XN5"
      }
    },
    {
      "cell_type": "markdown",
      "source": [
        "# Example 1"
      ],
      "metadata": {
        "id": "5zWdh15g8E8u"
      }
    },
    {
      "cell_type": "code",
      "execution_count": null,
      "metadata": {
        "colab": {
          "base_uri": "https://localhost:8080/"
        },
        "id": "92cjMioY6Owt",
        "outputId": "bc0fdee3-5d00-4a61-ca77-fdf46ba21365"
      },
      "outputs": [
        {
          "output_type": "stream",
          "name": "stdout",
          "text": [
            "10 15 45 "
          ]
        }
      ],
      "source": [
        "def function_list(listt):\n",
        "    for number in listt:\n",
        "        if number%5 != 0:\n",
        "            continue\n",
        "        print(number, end=' ')\n",
        "         \n",
        "        \n",
        "listt = [10, 18, 15, 22, 3, 45]\n",
        "\n",
        "function_list(listt)"
      ]
    },
    {
      "cell_type": "markdown",
      "source": [
        "# Example 2"
      ],
      "metadata": {
        "id": "ItzsLkz18K60"
      }
    },
    {
      "cell_type": "code",
      "source": [
        "def get_min_simple(listt):\n",
        "    m = listt[0]\n",
        "    for number in listt:\n",
        "        if number < m:\n",
        "            m = number\n",
        "    return m\n",
        "    \n",
        "listt = [1, 4, 234, 0.0005, 184, 15, 22, 3, 45, 4, 16]  \n",
        "print(get_min_simple(listt))"
      ],
      "metadata": {
        "colab": {
          "base_uri": "https://localhost:8080/"
        },
        "id": "0UuGtXrj8OrP",
        "outputId": "67c0cf63-5646-40d7-898a-5a7a8a5615df"
      },
      "execution_count": null,
      "outputs": [
        {
          "output_type": "stream",
          "name": "stdout",
          "text": [
            "0.0005\n"
          ]
        }
      ]
    },
    {
      "cell_type": "markdown",
      "source": [
        "# Example 3"
      ],
      "metadata": {
        "id": "HTSB2w9o8Uye"
      }
    },
    {
      "cell_type": "code",
      "source": [
        "def get_first_min(listt, my_value):\n",
        "    for number in listt:\n",
        "        if number < my_value:\n",
        "            print('Первый элемент списка меньше my_value это: ', number)\n",
        "            break\n",
        "    else:\n",
        "        print('Элемент меньше my_value не найден')\n",
        "\n",
        "listt = [2, 0.5, 1, 0.15, 0.99, 5, 12, 0.007, 3]\n",
        "get_first_min(listt, 1)\n",
        "get_first_min(listt, 10)"
      ],
      "metadata": {
        "colab": {
          "base_uri": "https://localhost:8080/"
        },
        "id": "0B3aqTJJ8Y-o",
        "outputId": "ccf69ee5-53c8-4504-d0b0-d5eb7cd83d9e"
      },
      "execution_count": null,
      "outputs": [
        {
          "output_type": "stream",
          "name": "stdout",
          "text": [
            "Первый элемент списка меньше my_value это:  0.5\n",
            "Первый элемент списка меньше my_value это:  2\n"
          ]
        }
      ]
    }
  ]
}